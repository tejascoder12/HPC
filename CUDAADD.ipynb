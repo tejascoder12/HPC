{
  "nbformat": 4,
  "nbformat_minor": 0,
  "metadata": {
    "colab": {
      "provenance": [],
      "gpuType": "T4",
      "authorship_tag": "ABX9TyOTn5qh996LA86NYePSKNkv",
      "include_colab_link": true
    },
    "kernelspec": {
      "name": "python3",
      "display_name": "Python 3"
    },
    "language_info": {
      "name": "python"
    },
    "accelerator": "GPU"
  },
  "cells": [
    {
      "cell_type": "markdown",
      "metadata": {
        "id": "view-in-github",
        "colab_type": "text"
      },
      "source": [
        "<a href=\"https://colab.research.google.com/github/tejascoder12/HPC/blob/main/CUDAADD.ipynb\" target=\"_parent\"><img src=\"https://colab.research.google.com/assets/colab-badge.svg\" alt=\"Open In Colab\"/></a>"
      ]
    },
    {
      "cell_type": "code",
      "execution_count": 5,
      "metadata": {
        "colab": {
          "base_uri": "https://localhost:8080/"
        },
        "id": "pJawF4oeYvre",
        "outputId": "de1abecb-4172-4f64-c902-06a3eef30d42"
      },
      "outputs": [
        {
          "output_type": "stream",
          "name": "stdout",
          "text": [
            "Overwriting CUDAADD.cu\n"
          ]
        }
      ],
      "source": [
        "\n",
        "%%writefile CUDAADD.cu\n",
        "\n",
        "#include <cstdlib>\n",
        "#include <iostream>\n",
        "\n",
        "#define checkCudaErrors(call)                                                                 \\\n",
        "    do {                                                                                      \\\n",
        "        cudaError_t err = call;                                                               \\\n",
        "        if (err != cudaSuccess) {                                                             \\\n",
        "            printf(\"CUDA error at %s %d: %s\\n\", __FILE__, __LINE__, cudaGetErrorString(err)); \\\n",
        "            exit(EXIT_FAILURE);                                                               \\\n",
        "        }                                                                                     \\\n",
        "    } while (0)\n",
        "\n",
        "using namespace std;\n",
        "\n",
        "__global__ void vectorAdd(int *a, int *b, int *result, int n) {\n",
        "    int tid = threadIdx.x + blockIdx.x * blockDim.x;\n",
        "    if (tid < n) {\n",
        "        result[tid] = a[tid] + b[tid];\n",
        "    }\n",
        "}\n",
        "\n",
        "int main() {\n",
        "    int *a, *b, *c;\n",
        "    int *a_dev, *b_dev, *c_dev;\n",
        "    int n = 1 << 4;\n",
        "\n",
        "    a = new int[n];\n",
        "    b = new int[n];\n",
        "    c = new int[n];\n",
        "    int *d = new int[n];\n",
        "    int size = n * sizeof(int);\n",
        "    checkCudaErrors(cudaMalloc(&a_dev, size));\n",
        "    checkCudaErrors(cudaMalloc(&b_dev, size));\n",
        "    checkCudaErrors(cudaMalloc(&c_dev, size));\n",
        "\n",
        "    for (int i = 0; i < n; i++) {\n",
        "        a[i] = rand() % 1000;\n",
        "        b[i] = rand() % 1000;\n",
        "        d[i] = a[i] + b[i];\n",
        "    }\n",
        "\n",
        "    cout << \"Given array A is =>\\n\";\n",
        "    for (int i = 0; i < n; i++) {\n",
        "        cout << a[i] << \", \";\n",
        "    }\n",
        "    cout << \"\\n\\n\";\n",
        "\n",
        "    cout << \"Given array B is =>\\n\";\n",
        "    for (int i = 0; i < n; i++) {\n",
        "        cout << b[i] << \", \";\n",
        "    }\n",
        "    cout << \"\\n\\n\";\n",
        "\n",
        "    cudaEvent_t start, end;\n",
        "    checkCudaErrors(cudaEventCreate(&start));\n",
        "    checkCudaErrors(cudaEventCreate(&end));\n",
        "\n",
        "    checkCudaErrors(cudaMemcpy(a_dev, a, size, cudaMemcpyHostToDevice));\n",
        "    checkCudaErrors(cudaMemcpy(b_dev, b, size, cudaMemcpyHostToDevice));\n",
        "\n",
        "    int threads = 1024;\n",
        "    int blocks = (n + threads - 1) / threads;\n",
        "\n",
        "    checkCudaErrors(cudaEventRecord(start));\n",
        "\n",
        "    vectorAdd<<<blocks, threads>>>(a_dev, b_dev, c_dev, n);\n",
        "\n",
        "    checkCudaErrors(cudaEventRecord(end));\n",
        "    checkCudaErrors(cudaEventSynchronize(end));\n",
        "\n",
        "    float time = 0.0;\n",
        "    checkCudaErrors(cudaEventElapsedTime(&time, start, end));\n",
        "\n",
        "    checkCudaErrors(cudaMemcpy(c, c_dev, size, cudaMemcpyDeviceToHost));\n",
        "\n",
        "    cout << \"CPU sum is =>\\n\";\n",
        "    for (int i = 0; i < n; i++) {\n",
        "        cout << d[i] << \", \";\n",
        "    }\n",
        "    cout << \"\\n\\n\";\n",
        "\n",
        "    cout << \"GPU sum is =>\\n\";\n",
        "    for (int i = 0; i < n; i++) {\n",
        "        cout << c[i] << \", \";\n",
        "    }\n",
        "    cout << \"\\n\\n\";\n",
        "\n",
        "    int error = 0;\n",
        "    for (int i = 0; i < n; i++) {\n",
        "        error += d[i] - c[i];\n",
        "        if (0 != (d[i] - c[i])) {\n",
        "            cout << \"Error at (\" << i << \") => GPU: \" << c[i] << \", CPU: \" << d[i] << \"\\n\";\n",
        "        }\n",
        "    }\n",
        "\n",
        "    cout << \"\\nError : \" << error;\n",
        "    cout << \"\\nTime Elapsed: \" << time << \" milliseconds\\n\";\n",
        "\n",
        "    return 0;\n",
        "}\n"
      ]
    },
    {
      "cell_type": "code",
      "source": [
        "!nvcc CUDAADD.cu -o CUDAADD\n",
        "\n"
      ],
      "metadata": {
        "id": "ZuCQDmq_ZHeo"
      },
      "execution_count": 6,
      "outputs": []
    },
    {
      "cell_type": "code",
      "source": [
        "!./CUDAADD"
      ],
      "metadata": {
        "colab": {
          "base_uri": "https://localhost:8080/"
        },
        "id": "SkXaByEvZOUh",
        "outputId": "35c5dd45-af41-43e7-8773-fa3a06e15cc6"
      },
      "execution_count": 7,
      "outputs": [
        {
          "output_type": "stream",
          "name": "stdout",
          "text": [
            "Given array A is =>\n",
            "383, 777, 793, 386, 649, 362, 690, 763, 540, 172, 211, 567, 782, 862, 67, 929, \n",
            "\n",
            "Given array B is =>\n",
            "886, 915, 335, 492, 421, 27, 59, 926, 426, 736, 368, 429, 530, 123, 135, 802, \n",
            "\n",
            "CPU sum is =>\n",
            "1269, 1692, 1128, 878, 1070, 389, 749, 1689, 966, 908, 579, 996, 1312, 985, 202, 1731, \n",
            "\n",
            "GPU sum is =>\n",
            "1269, 1692, 1128, 878, 1070, 389, 749, 1689, 966, 908, 579, 996, 1312, 985, 202, 1731, \n",
            "\n",
            "\n",
            "Error : 0\n",
            "Time Elapsed: 105.666 milliseconds\n"
          ]
        }
      ]
    },
    {
      "cell_type": "code",
      "source": [],
      "metadata": {
        "id": "C3y-9kK-bddj"
      },
      "execution_count": null,
      "outputs": []
    }
  ]
}